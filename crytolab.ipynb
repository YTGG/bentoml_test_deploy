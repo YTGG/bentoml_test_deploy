{
 "cells": [
  {
   "cell_type": "code",
   "execution_count": 26,
   "id": "d732aeb9",
   "metadata": {
    "ExecuteTime": {
     "end_time": "2023-11-01T05:52:59.430402Z",
     "start_time": "2023-11-01T05:52:59.211405Z"
    }
   },
   "outputs": [],
   "source": [
    "from keras.datasets import cifar100\n",
    "from keras.utils import np_utils\n",
    "import tensorflow as tf\n",
    "from tensorflow.keras.layers import Dense, GlobalAveragePooling2D, BatchNormalization, Flatten, Dropout, Activation, Input\n",
    "from tensorflow import keras\n",
    "from tensorflow.keras import layers\n",
    "from tensorflow.keras.preprocessing.image import ImageDataGenerator\n",
    "from sklearn.model_selection import train_test_split\n",
    "from vit_keras import vit, utils\n",
    "\n",
    "import numpy as np\n",
    "import matplotlib.pyplot as plt\n",
    "from itertools import chain\n",
    "\n",
    "def get_cifar100():\n",
    "    # download data\n",
    "    (x_train, y_train), (x_test, y_test) = cifar100.load_data()\n",
    "    return x_train, y_train, x_test, y_test\n",
    "\n",
    "x_train, y_train,x_test,y_test = get_cifar100()\n",
    "\n",
    "# Check \n",
    "assert x_train.shape == (50000, 32, 32, 3)\n",
    "assert x_test.shape == (10000, 32, 32, 3)\n",
    "assert y_train.shape == (50000, 1)\n",
    "assert y_test.shape == (10000, 1)"
   ]
  },
  {
   "cell_type": "code",
   "execution_count": 27,
   "id": "870bdf51",
   "metadata": {
    "ExecuteTime": {
     "end_time": "2023-11-01T05:52:59.595403Z",
     "start_time": "2023-11-01T05:52:59.546403Z"
    }
   },
   "outputs": [
    {
     "data": {
      "image/png": "[encoded data removed]",
      "text/plain": [
       "<Figure size 288x288 with 1 Axes>"
      ]
     },
     "metadata": {
      "needs_background": "light"
     },
     "output_type": "display_data"
    }
   ],
   "source": [
    "# vIsualization sample images\n",
    "plt.figure(figsize=(4,4))\n",
    "image = x_train[0]\n",
    "plt.imshow(image.astype(\"uint8\"))\n",
    "plt.axis(\"off\")\n",
    "plt.show()"
   ]
  },
  {
   "cell_type": "code",
   "execution_count": null,
   "id": "11d52661",
   "metadata": {},
   "outputs": [],
   "source": [
    "# resize and patch the image\n",
    "resized_image = tf.image.resize(\n",
    "    tf.convert_to_tensor([image]), size=(image_size, image_size)\n",
    ")\n",
    "\n",
    "patches = Patches(patch_size)(resized_image)\n",
    "\n",
    "# get number of patch width (or height)\n",
    "n = int(np.sqrt(patches.shape[1]))\n",
    "plt.figure(figsize=(4,4))\n",
    "\n",
    "# patch the image and visualize each patch\n",
    "for i, patch in enumerate(patches[0]):\n",
    "    ax = plt.subplot(n, n, i + 1)\n",
    "    patch_img = tf.reshape(patch, (patch_size, patch_size, 3))\n",
    "    plt.imshow(patch_img.numpy().astype(\"uint8\"))\n",
    "    plt.axis(\"off\")"
   ]
  },
  {
   "cell_type": "code",
   "execution_count": 13,
   "id": "b564c04c",
   "metadata": {
    "ExecuteTime": {
     "end_time": "2023-11-01T02:26:33.667233Z",
     "start_time": "2023-11-01T02:26:32.036233Z"
    }
   },
   "outputs": [
    {
     "data": {
      "image/png": "[encoded data removed]",
      "text/plain": [
       "<Figure size 576x432 with 1 Axes>"
      ]
     },
     "metadata": {
      "needs_background": "light"
     },
     "output_type": "display_data"
    }
   ],
   "source": [
    "# check pixel distribution\n",
    "plt.figure(figsize=(8, 6))\n",
    "pixel_values = x_train.reshape(-1)\n",
    "plt.hist(pixel_values, bins=50, color='blue', alpha=0.7)\n",
    "plt.title('Pixel Value Distribution')\n",
    "plt.xlabel('Pixel Value')\n",
    "plt.ylabel('Frequency')\n",
    "plt.grid(True)\n",
    "plt.show()"
   ]
  },
  {
   "cell_type": "code",
   "execution_count": 15,
   "id": "b96d7dc8",
   "metadata": {
    "ExecuteTime": {
     "end_time": "2023-11-01T02:27:21.891481Z",
     "start_time": "2023-11-01T02:27:21.836483Z"
    }
   },
   "outputs": [],
   "source": [
    "x_train, x_validation, y_train, y_validation = train_test_split(\n",
    "    x_train, y_train, test_size=0.15, random_state=42\n",
    ")\n",
    "\n",
    "num_classes = len(set(list(chain(*y_train))))\n",
    "input_shape = (32,32,3)\n",
    "\n",
    "# one-hot encoding and rescaling \n",
    "# 1~255 인 형태의 데이터를 모델 학습에 용이하도록 0~1로 변환\n",
    "x_train = (x_train/255.).astype(\"float32\")\n",
    "x_validation = (x_validation/255.).astype(\"float32\")\n",
    "x_test = (x_test/255.).astype(\"float32\")\n",
    "\n",
    "y_train = np_utils.to_categorical(y_train, num_classes)\n",
    "y_validation = np_utils.to_categorical(y_validation, num_classes)\n",
    "y_test = np_utils.to_categorical(y_test, num_classes)\n"
   ]
  },
  {
   "cell_type": "code",
   "execution_count": 17,
   "id": "7ba07044",
   "metadata": {
    "ExecuteTime": {
     "end_time": "2023-11-01T02:27:29.467621Z",
     "start_time": "2023-11-01T02:27:28.238622Z"
    }
   },
   "outputs": [
    {
     "data": {
      "image/png": "[encoded data removed]",
      "text/plain": [
       "<Figure size 576x432 with 1 Axes>"
      ]
     },
     "metadata": {
      "needs_background": "light"
     },
     "output_type": "display_data"
    }
   ],
   "source": [
    "# check pixel distribution\n",
    "plt.figure(figsize=(8, 6))\n",
    "pixel_values = x_train.reshape(-1)\n",
    "plt.hist(pixel_values, bins=50, color='blue', alpha=0.7)\n",
    "plt.title('Pixel Value Distribution')\n",
    "plt.xlabel('Pixel Value')\n",
    "plt.ylabel('Frequency')\n",
    "plt.grid(True)\n",
    "plt.show()"
   ]
  },
  {
   "cell_type": "code",
   "execution_count": 18,
   "id": "c61b08c8",
   "metadata": {
    "ExecuteTime": {
     "end_time": "2023-11-01T02:32:43.794985Z",
     "start_time": "2023-11-01T02:32:43.777986Z"
    }
   },
   "outputs": [],
   "source": [
    "# 기본 모델 구조 정의\n",
    "\n",
    "input_shape = (32, 32, 3) \n",
    "image_size = 256 \n",
    "\n",
    "def create_model():\n",
    "    # set input layer\n",
    "    inputs = layers.Input(shape=input_shape)\n",
    "    \n",
    "    # overfitting 방지하고자 더 다양한 공간정보를 호ㅘㄹ용하도록 이미지 크기 증가\n",
    "    x = tf.keras.layers.Lambda(lambda image: tf.image.resize(image, (image_size, image_size)))(inputs)\n",
    "    \n",
    "    # opensource 활용\n",
    "    base_model = vit.vit_b16(\n",
    "        image_size=image_size, \n",
    "        activation=\"sigmoid\", \n",
    "        pretrained=True,\n",
    "        include_top=False, \n",
    "        pretrained_top=False\n",
    "    )\n",
    "\n",
    "    base_model.trainable = False\n",
    "    x = base_model(x)\n",
    "    x = Flatten()(x)\n",
    "    \n",
    "    # overfitting 을 방지하고자 Batch Normalization layer 추가\n",
    "    x = BatchNormalization()(x)\n",
    "    x = Dense(32, activation=tf.nn.gelu)(x)\n",
    "    x = BatchNormalization()(x)\n",
    "    outputs = Dense(num_classes, activation=\"softmax\")(x)\n",
    "    \n",
    "    # create model\n",
    "    model = keras.Model(inputs=inputs, outputs=outputs)\n",
    "    \n",
    "    return model"
   ]
  },
  {
   "cell_type": "code",
   "execution_count": 19,
   "id": "1afc2b13",
   "metadata": {
    "ExecuteTime": {
     "end_time": "2023-11-01T02:32:48.175002Z",
     "start_time": "2023-11-01T02:32:48.158002Z"
    },
    "scrolled": false
   },
   "outputs": [],
   "source": [
    "callbacks = [\n",
    "  keras.callbacks.ModelCheckpoint(\n",
    "    filepath=\"C:\\\\Users\\\\user\\\\crytolab_test\\\\base_model.keras\",\n",
    "    save_best_only=True,\n",
    "    monitor=\"val_loss\"\n",
    "  )\n",
    "]\n",
    "\n",
    "# 데이터 증강기법으로 ImageDataGenerator 을 활용\n",
    "batch_size = 32\n",
    "datagen = ImageDataGenerator(rotation_range=15, width_shift_range=0.2, zoom_range=0.2, horizontal_flip=True)\n",
    "train_generator = datagen.flow(x_train, y_train, batch_size=batch_size)\n",
    "\n",
    "validation_datagen = ImageDataGenerator()\n",
    "validation_generator = validation_datagen.flow(x_validation, y_validation, batch_size=batch_size)\n"
   ]
  },
  {
   "cell_type": "code",
   "execution_count": 6,
   "id": "1e635fec",
   "metadata": {
    "ExecuteTime": {
     "end_time": "2023-11-01T02:20:49.904402Z",
     "start_time": "2023-11-01T02:11:22.768271Z"
    }
   },
   "outputs": [
    {
     "name": "stderr",
     "output_type": "stream",
     "text": [
      "C:\\Users\\user\\anaconda3\\envs\\gpu3080\\lib\\site-packages\\vit_keras\\utils.py:81: UserWarning: Resizing position embeddings from 24, 24 to 16, 16\n",
      "  warnings.warn(\n"
     ]
    },
    {
     "name": "stdout",
     "output_type": "stream",
     "text": [
      "Epoch 1/2\n",
      "1329/1329 [==============================] - 285s 207ms/step - loss: 2.4255 - accuracy: 0.4269 - val_loss: 1.2337 - val_accuracy: 0.6644\n",
      "Epoch 2/2\n",
      "1329/1329 [==============================] - 278s 209ms/step - loss: 1.5459 - accuracy: 0.5806 - val_loss: 1.0782 - val_accuracy: 0.7003\n"
     ]
    }
   ],
   "source": [
    "# training settings\n",
    "model = create_model()\n",
    "model.compile(loss='categorical_crossentropy',\n",
    "  optimizer='adam',\n",
    "  metrics=['accuracy']\n",
    ")\n",
    "\n",
    "num_epochs = 2\n",
    "\n",
    "# 훈련속도를 위해 GPU 활용\n",
    "with tf.device(\"/device:GPU:0\"):\n",
    "    history = model.fit(\n",
    "        train_generator,\n",
    "        validation_data=validation_generator,\n",
    "        batch_size=128,\n",
    "        epochs=num_epochs,\n",
    "        callbacks=callbacks,\n",
    "        verbose=1,\n",
    "    )"
   ]
  },
  {
   "cell_type": "code",
   "execution_count": 9,
   "id": "9e5ec423",
   "metadata": {
    "ExecuteTime": {
     "end_time": "2023-11-01T02:22:57.077494Z",
     "start_time": "2023-11-01T02:22:07.011185Z"
    }
   },
   "outputs": [
    {
     "name": "stdout",
     "output_type": "stream",
     "text": [
      "Test loss: 3.848177433013916\n",
      "Test acc: 0.1662999987602234\n"
     ]
    }
   ],
   "source": [
    "# 1차 테스트 결과\n",
    "test_loss, test_acc = model.evaluate(x_test,y_test,\n",
    "                       batch_size=batch_size,\n",
    "                       verbose=0)\n",
    "print('Test loss:', test_loss)\n",
    "print('Test acc:', test_acc)"
   ]
  },
  {
   "cell_type": "code",
   "execution_count": 20,
   "id": "df0acf7f",
   "metadata": {
    "ExecuteTime": {
     "end_time": "2023-11-01T03:19:05.378828Z",
     "start_time": "2023-11-01T02:32:51.879002Z"
    }
   },
   "outputs": [
    {
     "name": "stderr",
     "output_type": "stream",
     "text": [
      "C:\\Users\\user\\anaconda3\\envs\\gpu3080\\lib\\site-packages\\vit_keras\\utils.py:81: UserWarning: Resizing position embeddings from 24, 24 to 16, 16\n",
      "  warnings.warn(\n"
     ]
    },
    {
     "name": "stdout",
     "output_type": "stream",
     "text": [
      "Epoch 1/10\n",
      "1329/1329 [==============================] - 284s 209ms/step - loss: 2.4224 - accuracy: 0.4325 - val_loss: 1.2231 - val_accuracy: 0.6651 - lr: 0.0010\n",
      "Epoch 2/10\n",
      "1329/1329 [==============================] - 276s 208ms/step - loss: 1.5446 - accuracy: 0.5817 - val_loss: 1.0915 - val_accuracy: 0.6943 - lr: 0.0010\n",
      "Epoch 3/10\n",
      "1329/1329 [==============================] - 277s 208ms/step - loss: 1.4208 - accuracy: 0.6099 - val_loss: 1.0324 - val_accuracy: 0.7061 - lr: 0.0010\n",
      "Epoch 4/10\n",
      "1329/1329 [==============================] - 279s 210ms/step - loss: 1.3612 - accuracy: 0.6210 - val_loss: 0.9925 - val_accuracy: 0.7175 - lr: 0.0010\n",
      "Epoch 5/10\n",
      "1329/1329 [==============================] - 275s 207ms/step - loss: 1.3332 - accuracy: 0.6281 - val_loss: 0.9843 - val_accuracy: 0.7189 - lr: 0.0010\n",
      "Epoch 6/10\n",
      "1329/1329 [==============================] - 275s 207ms/step - loss: 1.3060 - accuracy: 0.6347 - val_loss: 0.9767 - val_accuracy: 0.7183 - lr: 0.0010\n",
      "Epoch 7/10\n",
      "1329/1329 [==============================] - ETA: 0s - loss: 1.2943 - accuracy: 0.6348\n",
      "Epoch 00007: ReduceLROnPlateau reducing learning rate to 0.0007000000332482159.\n",
      "1329/1329 [==============================] - 276s 208ms/step - loss: 1.2943 - accuracy: 0.6348 - val_loss: 0.9812 - val_accuracy: 0.7183 - lr: 0.0010\n",
      "Epoch 8/10\n",
      "1329/1329 [==============================] - 277s 208ms/step - loss: 1.2690 - accuracy: 0.6436 - val_loss: 0.9636 - val_accuracy: 0.7244 - lr: 7.0000e-04\n",
      "Epoch 9/10\n",
      "1329/1329 [==============================] - 275s 207ms/step - loss: 1.2444 - accuracy: 0.6469 - val_loss: 0.9514 - val_accuracy: 0.7261 - lr: 7.0000e-04\n",
      "Epoch 10/10\n",
      "1329/1329 [==============================] - 277s 208ms/step - loss: 1.2329 - accuracy: 0.6510 - val_loss: 0.9455 - val_accuracy: 0.7269 - lr: 7.0000e-04\n"
     ]
    }
   ],
   "source": [
    "from tensorflow.keras.callbacks import ReduceLROnPlateau, EarlyStopping\n",
    "\n",
    "# 하이퍼 파라미터 튜닝을 위해 ReduceLROnPlateau,EarlyStopping 사용\n",
    "plateau = ReduceLROnPlateau(monitor=\"val_loss\", factor=0.7, patience=1, verbose=1)\n",
    "earlystopping = EarlyStopping(monitor=\"val_loss\", patience=3, verbose=1)\n",
    "\n",
    "model = create_model()\n",
    "\n",
    "model.compile(loss='categorical_crossentropy',\n",
    "  optimizer='adam',\n",
    "  metrics=['accuracy']\n",
    " )\n",
    "\n",
    "with tf.device(\"/device:GPU:0\"):\n",
    "\n",
    "    history = model.fit(\n",
    "        train_generator,\n",
    "        validation_data=validation_generator,\n",
    "        batch_size=256, # 배치 사이즈 조정 \n",
    "        epochs=10,\n",
    "        callbacks=[plateau, earlystopping],\n",
    "        verbose=1\n",
    "    )"
   ]
  },
  {
   "cell_type": "code",
   "execution_count": 21,
   "id": "756317db",
   "metadata": {
    "ExecuteTime": {
     "end_time": "2023-11-01T03:19:09.458828Z",
     "start_time": "2023-11-01T03:19:09.290830Z"
    }
   },
   "outputs": [
    {
     "data": {
      "image/png": "[encoded data removed]",
      "text/plain": [
       "<Figure size 432x288 with 1 Axes>"
      ]
     },
     "metadata": {
      "needs_background": "light"
     },
     "output_type": "display_data"
    },
    {
     "data": {
      "image/png": "[encoded data removed]",
      "text/plain": [
       "<Figure size 432x288 with 1 Axes>"
      ]
     },
     "metadata": {
      "needs_background": "light"
     },
     "output_type": "display_data"
    }
   ],
   "source": [
    "# check accuracy \n",
    "plt.plot(history.history['accuracy'])\n",
    "plt.plot(history.history['val_accuracy'])\n",
    "plt.title('Model Accuracy')\n",
    "plt.ylabel('Accuracy')\n",
    "plt.xlabel('Epochs')\n",
    "plt.legend(['train', 'test'], loc='upper left')\n",
    "plt.show()\n",
    "\n",
    "# check loss\n",
    "plt.plot(history.history['loss'])\n",
    "plt.plot(history.history['val_loss'])\n",
    "plt.title('Model Loss')\n",
    "plt.ylabel('Loss')\n",
    "plt.xlabel('Epochs')\n",
    "plt.legend(['train', 'test'], loc='upper left')\n",
    "plt.show()"
   ]
  },
  {
   "cell_type": "code",
   "execution_count": 22,
   "id": "450af3ea",
   "metadata": {
    "ExecuteTime": {
     "end_time": "2023-11-01T03:19:41.993533Z",
     "start_time": "2023-11-01T03:19:18.269372Z"
    }
   },
   "outputs": [
    {
     "name": "stderr",
     "output_type": "stream",
     "text": [
      "WARNING:absl:Found untraced functions such as MultiHeadDotProductAttention_1_layer_call_fn, MultiHeadDotProductAttention_1_layer_call_and_return_conditional_losses, LayerNorm_0_layer_call_fn, LayerNorm_0_layer_call_and_return_conditional_losses, LayerNorm_2_layer_call_fn while saving (showing 5 of 480). These functions will not be directly callable after loading.\n"
     ]
    }
   ],
   "source": [
    "model.save_weights('check_point/check_point')\n",
    "model.save('save_model/my_model')\n"
   ]
  },
  {
   "cell_type": "code",
   "execution_count": null,
   "id": "938ac4a4",
   "metadata": {},
   "outputs": [],
   "source": [
    "# 저장된 모델 불러오기\n",
    "\n",
    "# model = create_model()\n",
    "# model.compile(loss='categorical_crossentropy',\n",
    "#   optimizer='adam',\n",
    "#   metrics=['accuracy']\n",
    "#  )\n",
    "# loss, acc = model.evaluate(x_test,y_test)\n",
    "# print(\"Untrained model, accuracy: {:5.2f}%\".format(100*acc))\n",
    "\n",
    "# model.load_weights(\"check_point/check_point\")\n",
    "# model.compile(loss='categorical_crossentropy',\n",
    "#   optimizer='adam',\n",
    "#   metrics=['accuracy']\n",
    "#  )\n",
    "# loss, acc = model.evaluate(x_test,y_test)\n",
    "# print(\"Restored model, accuracy: {:5.2f}%\".format(100*acc))\n"
   ]
  },
  {
   "cell_type": "code",
   "execution_count": 38,
   "id": "590d71d0",
   "metadata": {
    "ExecuteTime": {
     "end_time": "2023-10-31T15:07:32.338985Z",
     "start_time": "2023-10-31T15:07:32.321987Z"
    }
   },
   "outputs": [],
   "source": [
    "import json\n",
    "import numpy\n",
    "from json import JSONEncoder\n",
    "\n",
    "class NumpyArrayEncoder(JSONEncoder):\n",
    "    def default(self, obj):\n",
    "        if isinstance(obj, numpy.ndarray):\n",
    "            return obj.tolist()\n",
    "        return JSONEncoder.default(self, obj)\n",
    "\n",
    "# Serialization\n",
    "numpyData = {\"array\": x_test[0]}\n",
    "encodedNumpyData = json.dumps(numpyData, cls=NumpyArrayEncoder) \n",
    "\n",
    "decodedArrays = json.loads(encodedNumpyData)\n",
    "\n",
    "finalNumpyArray = numpy.asarray(decodedArrays[\"array\"])\n",
    "result=model.predict(np.expand_dims(x_train[0], axis=0))"
   ]
  },
  {
   "cell_type": "code",
   "execution_count": 24,
   "id": "88096550",
   "metadata": {
    "ExecuteTime": {
     "end_time": "2023-11-01T03:21:26.996542Z",
     "start_time": "2023-11-01T03:21:25.268544Z"
    }
   },
   "outputs": [],
   "source": [
    "result=model.predict(np.expand_dims(x_train[0], axis=0))"
   ]
  },
  {
   "cell_type": "code",
   "execution_count": 139,
   "id": "d4e14124",
   "metadata": {
    "ExecuteTime": {
     "end_time": "2023-10-31T16:26:06.790595Z",
     "start_time": "2023-10-31T16:26:06.775595Z"
    }
   },
   "outputs": [],
   "source": [
    "# 정답 확인용 \n",
    "coarse_label = [\n",
    "'apple', # id 0\n",
    "'aquarium_fish',\n",
    "'baby',\n",
    "'bear',\n",
    "'beaver',\n",
    "'bed',\n",
    "'bee',\n",
    "'beetle',\n",
    "'bicycle',\n",
    "'bottle',\n",
    "'bowl',\n",
    "'boy',\n",
    "'bridge',\n",
    "'bus',\n",
    "'butterfly',\n",
    "'camel',\n",
    "'can',\n",
    "'castle',\n",
    "'caterpillar',\n",
    "'cattle',\n",
    "'chair',\n",
    "'chimpanzee',\n",
    "'clock',\n",
    "'cloud',\n",
    "'cockroach',\n",
    "'couch',\n",
    "'crab',\n",
    "'crocodile',\n",
    "'cup',\n",
    "'dinosaur',\n",
    "'dolphin',\n",
    "'elephant',\n",
    "'flatfish',\n",
    "'forest',\n",
    "'fox',\n",
    "'girl',\n",
    "'hamster',\n",
    "'house',\n",
    "'kangaroo',\n",
    "'computer_keyboard',\n",
    "'lamp',\n",
    "'lawn_mower',\n",
    "'leopard',\n",
    "'lion',\n",
    "'lizard',\n",
    "'lobster',\n",
    "'man',\n",
    "'maple_tree',\n",
    "'motorcycle',\n",
    "'mountain',\n",
    "'mouse',\n",
    "'mushroom',\n",
    "'oak_tree',\n",
    "'orange',\n",
    "'orchid',\n",
    "'otter',\n",
    "'palm_tree',\n",
    "'pear',\n",
    "'pickup_truck',\n",
    "'pine_tree',\n",
    "'plain',\n",
    "'plate',\n",
    "'poppy',\n",
    "'porcupine',\n",
    "'possum',\n",
    "'rabbit',\n",
    "'raccoon',\n",
    "'ray',\n",
    "'road',\n",
    "'rocket',\n",
    "'rose',\n",
    "'sea',\n",
    "'seal',\n",
    "'shark',\n",
    "'shrew',\n",
    "'skunk',\n",
    "'skyscraper',\n",
    "'snail',\n",
    "'snake',\n",
    "'spider',\n",
    "'squirrel',\n",
    "'streetcar',\n",
    "'sunflower',\n",
    "'sweet_pepper',\n",
    "'table',\n",
    "'tank',\n",
    "'telephone',\n",
    "'television',\n",
    "'tiger',\n",
    "'tractor',\n",
    "'train',\n",
    "'trout',\n",
    "'tulip',\n",
    "'turtle',\n",
    "'wardrobe',\n",
    "'whale',\n",
    "'willow_tree',\n",
    "'wolf',\n",
    "'woman',\n",
    "'worm',\n",
    "]"
   ]
  },
  {
   "cell_type": "code",
   "execution_count": null,
   "id": "a40cecf4",
   "metadata": {},
   "outputs": [],
   "source": []
  }
 ],
 "metadata": {
  "kernelspec": {
   "display_name": "Python 3 (ipykernel)",
   "language": "python",
   "name": "python3"
  },
  "language_info": {
   "codemirror_mode": {
    "name": "ipython",
    "version": 3
   },
   "file_extension": ".py",
   "mimetype": "text/x-python",
   "name": "python",
   "nbconvert_exporter": "python",
   "pygments_lexer": "ipython3",
   "version": "3.8.12"
  },
  "toc": {
   "base_numbering": 1,
   "nav_menu": {},
   "number_sections": true,
   "sideBar": true,
   "skip_h1_title": false,
   "title_cell": "Table of Contents",
   "title_sidebar": "Contents",
   "toc_cell": false,
   "toc_position": {},
   "toc_section_display": true,
   "toc_window_display": false
  }
 },
 "nbformat": 4,
 "nbformat_minor": 5
}
